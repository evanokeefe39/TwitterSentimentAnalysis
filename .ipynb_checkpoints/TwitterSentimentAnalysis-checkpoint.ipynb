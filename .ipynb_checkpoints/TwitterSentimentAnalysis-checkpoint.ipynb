{
 "cells": [
  {
   "cell_type": "code",
   "execution_count": 1,
   "metadata": {
    "scrolled": true
   },
   "outputs": [
    {
     "name": "stdout",
     "output_type": "stream",
     "text": [
      "Defaulting to user installation because normal site-packages is not writeable\n",
      "Requirement already satisfied: alpha_vantage in c:\\users\\hp\\appdata\\roaming\\python\\python37\\site-packages (2.2.0)\n",
      "Requirement already satisfied: aiohttp in c:\\users\\hp\\appdata\\roaming\\python\\python37\\site-packages (from alpha_vantage) (3.6.2)\n",
      "Requirement already satisfied: requests in c:\\program files (x86)\\microsoft visual studio\\shared\\python37_64\\lib\\site-packages (from alpha_vantage) (2.24.0)\n",
      "Requirement already satisfied: async-timeout<4.0,>=3.0 in c:\\users\\hp\\appdata\\roaming\\python\\python37\\site-packages (from aiohttp->alpha_vantage) (3.0.1)\n",
      "Requirement already satisfied: multidict<5.0,>=4.5 in c:\\users\\hp\\appdata\\roaming\\python\\python37\\site-packages (from aiohttp->alpha_vantage) (4.7.6)\n",
      "Requirement already satisfied: attrs>=17.3.0 in c:\\program files (x86)\\microsoft visual studio\\shared\\python37_64\\lib\\site-packages (from aiohttp->alpha_vantage) (20.1.0)\n",
      "Requirement already satisfied: yarl<2.0,>=1.0 in c:\\users\\hp\\appdata\\roaming\\python\\python37\\site-packages (from aiohttp->alpha_vantage) (1.5.1)\n",
      "Requirement already satisfied: chardet<4.0,>=2.0 in c:\\program files (x86)\\microsoft visual studio\\shared\\python37_64\\lib\\site-packages (from aiohttp->alpha_vantage) (3.0.4)\n",
      "Requirement already satisfied: certifi>=2017.4.17 in c:\\program files (x86)\\microsoft visual studio\\shared\\python37_64\\lib\\site-packages (from requests->alpha_vantage) (2020.6.20)\n",
      "Requirement already satisfied: idna<3,>=2.5 in c:\\program files (x86)\\microsoft visual studio\\shared\\python37_64\\lib\\site-packages (from requests->alpha_vantage) (2.10)\n",
      "Requirement already satisfied: urllib3!=1.25.0,!=1.25.1,<1.26,>=1.21.1 in c:\\program files (x86)\\microsoft visual studio\\shared\\python37_64\\lib\\site-packages (from requests->alpha_vantage) (1.25.10)\n",
      "Requirement already satisfied: typing-extensions>=3.7.4; python_version < \"3.8\" in c:\\users\\hp\\appdata\\roaming\\python\\python37\\site-packages (from yarl<2.0,>=1.0->aiohttp->alpha_vantage) (3.7.4.3)\n",
      "Defaulting to user installation because normal site-packages is not writeable\n",
      "Requirement already satisfied: matplotlib in c:\\users\\hp\\appdata\\roaming\\python\\python37\\site-packages (3.3.2)\n",
      "Requirement already satisfied: kiwisolver>=1.0.1 in c:\\users\\hp\\appdata\\roaming\\python\\python37\\site-packages (from matplotlib) (1.2.0)\n",
      "Requirement already satisfied: python-dateutil>=2.1 in c:\\program files (x86)\\microsoft visual studio\\shared\\python37_64\\lib\\site-packages (from matplotlib) (2.8.1)\n",
      "Requirement already satisfied: pillow>=6.2.0 in c:\\users\\hp\\appdata\\roaming\\python\\python37\\site-packages (from matplotlib) (7.2.0)\n",
      "Requirement already satisfied: numpy>=1.15 in c:\\program files (x86)\\microsoft visual studio\\shared\\python37_64\\lib\\site-packages (from matplotlib) (1.19.1)\n",
      "Requirement already satisfied: pyparsing!=2.0.4,!=2.1.2,!=2.1.6,>=2.0.3 in c:\\program files (x86)\\microsoft visual studio\\shared\\python37_64\\lib\\site-packages (from matplotlib) (2.4.7)\n",
      "Requirement already satisfied: certifi>=2020.06.20 in c:\\program files (x86)\\microsoft visual studio\\shared\\python37_64\\lib\\site-packages (from matplotlib) (2020.6.20)\n",
      "Requirement already satisfied: cycler>=0.10 in c:\\users\\hp\\appdata\\roaming\\python\\python37\\site-packages (from matplotlib) (0.10.0)\n",
      "Requirement already satisfied: six>=1.5 in c:\\program files (x86)\\microsoft visual studio\\shared\\python37_64\\lib\\site-packages (from python-dateutil>=2.1->matplotlib) (1.15.0)\n",
      "Defaulting to user installation because normal site-packages is not writeable\n",
      "Requirement already satisfied: elasticsearch in c:\\users\\hp\\appdata\\roaming\\python\\python37\\site-packages (7.9.1)\n",
      "Requirement already satisfied: urllib3>=1.21.1 in c:\\program files (x86)\\microsoft visual studio\\shared\\python37_64\\lib\\site-packages (from elasticsearch) (1.25.10)\n",
      "Requirement already satisfied: certifi in c:\\program files (x86)\\microsoft visual studio\\shared\\python37_64\\lib\\site-packages (from elasticsearch) (2020.6.20)\n"
     ]
    }
   ],
   "source": [
    "!pip install alpha_vantage\n",
    "!pip install matplotlib\n",
    "!pip install elasticsearch"
   ]
  },
  {
   "cell_type": "code",
   "execution_count": 5,
   "metadata": {},
   "outputs": [
    {
     "data": {
      "image/png": "[encoded data removed]",
      "text/plain": [
       "<Figure size 432x288 with 1 Axes>"
      ]
     },
     "metadata": {
      "needs_background": "light"
     },
     "output_type": "display_data"
    }
   ],
   "source": [
    "from alpha_vantage.timeseries import TimeSeries\n",
    "import matplotlib.pyplot as plt\n",
    "\n",
    "api_key = 'IKSTMOK2RZKIEIJX'\n",
    "\n",
    "ts = TimeSeries(key=api_key, output_format='pandas')\n",
    "data, meta_data = ts.get_intraday(symbol='TSLA', interval='1min' ,outputsize='full')\n",
    "data['4. close'].plot()\n",
    "plt.title('Intraday Times Series for the tsla stock ')\n",
    "plt.show()"
   ]
  },
  {
   "cell_type": "code",
   "execution_count": 6,
   "metadata": {},
   "outputs": [
    {
     "data": {
      "text/html": [
       "<div>\n",
       "<style scoped>\n",
       "    .dataframe tbody tr th:only-of-type {\n",
       "        vertical-align: middle;\n",
       "    }\n",
       "\n",
       "    .dataframe tbody tr th {\n",
       "        vertical-align: top;\n",
       "    }\n",
       "\n",
       "    .dataframe thead th {\n",
       "        text-align: right;\n",
       "    }\n",
       "</style>\n",
       "<table border=\"1\" class=\"dataframe\">\n",
       "  <thead>\n",
       "    <tr style=\"text-align: right;\">\n",
       "      <th></th>\n",
       "      <th>1. open</th>\n",
       "      <th>2. high</th>\n",
       "      <th>3. low</th>\n",
       "      <th>4. close</th>\n",
       "      <th>5. volume</th>\n",
       "    </tr>\n",
       "    <tr>\n",
       "      <th>date</th>\n",
       "      <th></th>\n",
       "      <th></th>\n",
       "      <th></th>\n",
       "      <th></th>\n",
       "      <th></th>\n",
       "    </tr>\n",
       "  </thead>\n",
       "  <tbody>\n",
       "    <tr>\n",
       "      <th>2020-09-23 20:00:00</th>\n",
       "      <td>368.0100</td>\n",
       "      <td>368.0900</td>\n",
       "      <td>367.7500</td>\n",
       "      <td>367.8300</td>\n",
       "      <td>22884.0</td>\n",
       "    </tr>\n",
       "    <tr>\n",
       "      <th>2020-09-23 19:59:00</th>\n",
       "      <td>368.1000</td>\n",
       "      <td>368.1000</td>\n",
       "      <td>368.0000</td>\n",
       "      <td>368.0900</td>\n",
       "      <td>8204.0</td>\n",
       "    </tr>\n",
       "    <tr>\n",
       "      <th>2020-09-23 19:58:00</th>\n",
       "      <td>368.2501</td>\n",
       "      <td>368.3399</td>\n",
       "      <td>368.1201</td>\n",
       "      <td>368.1201</td>\n",
       "      <td>8170.0</td>\n",
       "    </tr>\n",
       "    <tr>\n",
       "      <th>2020-09-23 19:57:00</th>\n",
       "      <td>368.2400</td>\n",
       "      <td>368.3400</td>\n",
       "      <td>368.1100</td>\n",
       "      <td>368.2400</td>\n",
       "      <td>6499.0</td>\n",
       "    </tr>\n",
       "    <tr>\n",
       "      <th>2020-09-23 19:56:00</th>\n",
       "      <td>368.0300</td>\n",
       "      <td>368.1900</td>\n",
       "      <td>368.0000</td>\n",
       "      <td>368.1900</td>\n",
       "      <td>11040.0</td>\n",
       "    </tr>\n",
       "  </tbody>\n",
       "</table>\n",
       "</div>"
      ],
      "text/plain": [
       "                      1. open   2. high    3. low  4. close  5. volume\n",
       "date                                                                  \n",
       "2020-09-23 20:00:00  368.0100  368.0900  367.7500  367.8300    22884.0\n",
       "2020-09-23 19:59:00  368.1000  368.1000  368.0000  368.0900     8204.0\n",
       "2020-09-23 19:58:00  368.2501  368.3399  368.1201  368.1201     8170.0\n",
       "2020-09-23 19:57:00  368.2400  368.3400  368.1100  368.2400     6499.0\n",
       "2020-09-23 19:56:00  368.0300  368.1900  368.0000  368.1900    11040.0"
      ]
     },
     "execution_count": 6,
     "metadata": {},
     "output_type": "execute_result"
    }
   ],
   "source": [
    "data.head()"
   ]
  },
  {
   "cell_type": "code",
   "execution_count": 7,
   "metadata": {},
   "outputs": [],
   "source": [
    "#move date out of the index and into a column\n",
    "data.reset_index(level=0, inplace=True)"
   ]
  },
  {
   "cell_type": "code",
   "execution_count": 4,
   "metadata": {},
   "outputs": [],
   "source": [
    "#connect to elasticsearch through host\n",
    "from elasticsearch import Elasticsearch\n",
    "es = Elasticsearch([{'host': 'localhost', 'port': 9200}] )    "
   ]
  },
  {
   "cell_type": "code",
   "execution_count": 16,
   "metadata": {
    "scrolled": true
   },
   "outputs": [
    {
     "data": {
      "text/plain": [
       "{'acknowledged': True, 'shards_acknowledged': True, 'index': 'stock_price'}"
      ]
     },
     "execution_count": 16,
     "metadata": {},
     "output_type": "execute_result"
    }
   ],
   "source": [
    "#create new index\n",
    "es.indices.create(index=\"stock_price\" )"
   ]
  },
  {
   "cell_type": "code",
   "execution_count": 15,
   "metadata": {},
   "outputs": [
    {
     "data": {
      "text/plain": [
       "{'acknowledged': True}"
      ]
     },
     "execution_count": 15,
     "metadata": {},
     "output_type": "execute_result"
    }
   ],
   "source": [
    "#use this to delete the index if needed\n",
    "#es.indices.delete(index=\"stock_price\" ) "
   ]
  },
  {
   "cell_type": "code",
   "execution_count": 17,
   "metadata": {},
   "outputs": [
    {
     "data": {
      "text/plain": [
       "{'acknowledged': True}"
      ]
     },
     "execution_count": 17,
     "metadata": {},
     "output_type": "execute_result"
    }
   ],
   "source": [
    "#set the type mappings for the index\n",
    "es.indices.put_mapping(index=\"stock_price\",\n",
    "                        body={\"properties\": {\n",
    "                            \"date\": {\"type\":\"date\"},\n",
    "                            \"open\": {\"type\":\"float\"},\n",
    "                            \"high\": {\"type\":\"float\"},\n",
    "                            \"low\": {\"type\":\"float\"},\n",
    "                            \"close\": {\"type\":\"float\"},\n",
    "                            \"volume\": {\"type\":\"float\"},\n",
    "                        }}\n",
    ")"
   ]
  },
  {
   "cell_type": "code",
   "execution_count": 22,
   "metadata": {},
   "outputs": [
    {
     "data": {
      "text/plain": [
       "{'_index': 'stock_price',\n",
       " '_type': '_doc',\n",
       " '_id': '0',\n",
       " '_version': 1,\n",
       " 'result': 'created',\n",
       " '_shards': {'total': 2, 'successful': 1, 'failed': 0},\n",
       " '_seq_no': 0,\n",
       " '_primary_term': 1}"
      ]
     },
     "execution_count": 22,
     "metadata": {},
     "output_type": "execute_result"
    }
   ],
   "source": [
    "#Try create one document as a test\n",
    "\n",
    "# es.create(index=\"stock_price\", doc_type=\"_doc\", id=data.index[0],\n",
    "#          body={\"date\": data[\"date\"][0],\n",
    "#                \"open\":data[\"1. open\"][0] ,\n",
    "#                 \"high\": data[\"2. high\"][0],\n",
    "#                 \"low\": data[\"3. low\"][0],\n",
    "#                 \"close\": data[\"4. close\"][0],\n",
    "#                 \"volume\": data[\"5. volume\"][0]\n",
    "#               })"
   ]
  },
  {
   "cell_type": "code",
   "execution_count": 8,
   "metadata": {
    "scrolled": true
   },
   "outputs": [
    {
     "name": "stderr",
     "output_type": "stream",
     "text": [
      "C:\\Users\\HP\\AppData\\Roaming\\Python\\Python37\\site-packages\\elasticsearch\\connection\\base.py:190: ElasticsearchDeprecationWarning: [types removal] Specifying types in bulk requests is deprecated.\n",
      "  warnings.warn(message, category=ElasticsearchDeprecationWarning)\n"
     ]
    },
    {
     "data": {
      "text/plain": [
       "(9116, [])"
      ]
     },
     "execution_count": 8,
     "metadata": {},
     "output_type": "execute_result"
    }
   ],
   "source": [
    "from elasticsearch import Elasticsearch\n",
    "from elasticsearch import helpers\n",
    "\n",
    "#define a generator\n",
    "def doc_generator(df):\n",
    "    df_iter = df.iterrows()\n",
    "    for index, document in df_iter:\n",
    "        yield {\n",
    "                \"_index\": \"stock_price2\",\n",
    "                \"_type\": \"_doc\",\n",
    "                \"_id\" : index,\n",
    "                \"_source\": document.to_dict()\n",
    "            }\n",
    "    \n",
    "#batch import the dataframe into elasticsearch   \n",
    "helpers.bulk(es, doc_generator(data))"
   ]
  },
  {
   "cell_type": "code",
   "execution_count": 3,
   "metadata": {},
   "outputs": [
    {
     "data": {
      "text/plain": [
       "{'acknowledged': True}"
      ]
     },
     "execution_count": 3,
     "metadata": {},
     "output_type": "execute_result"
    }
   ],
   "source": [
    "# Aggregations on text fields are turned off by default. \n",
    "# Add the fielddata: True element to get Tag Cloud Kibana plugin working. \n",
    "#This can be done on existing data without having to reindex.\n",
    "\n",
    "es.indices.put_mapping(index=\"sentiment\",\n",
    "                        body={\"properties\": {\n",
    "                            \"message\": {\"type\":\"text\",\n",
    "                                       \"fielddata\": True}\n",
    "                        }}\n",
    ")"
   ]
  },
  {
   "cell_type": "code",
   "execution_count": null,
   "metadata": {},
   "outputs": [],
   "source": []
  }
 ],
 "metadata": {
  "kernelspec": {
   "display_name": "Python 3",
   "language": "python",
   "name": "python3"
  },
  "language_info": {
   "codemirror_mode": {
    "name": "ipython",
    "version": 3
   },
   "file_extension": ".py",
   "mimetype": "text/x-python",
   "name": "python",
   "nbconvert_exporter": "python",
   "pygments_lexer": "ipython3",
   "version": "3.7.5"
  }
 },
 "nbformat": 4,
 "nbformat_minor": 4
}
